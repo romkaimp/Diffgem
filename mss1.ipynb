{
 "cells": [
  {
   "cell_type": "code",
   "id": "initial_id",
   "metadata": {
    "collapsed": true,
    "ExecuteTime": {
     "end_time": "2025-02-14T20:49:59.367945Z",
     "start_time": "2025-02-14T20:49:40.556484Z"
    }
   },
   "source": [
    "from math import cos, pi, sin\n",
    "from sympy import diff, symbols, cos, sin, exp, sqrt, limit, Matrix, det, simplify, init_printing\n",
    "from matplotlib import pyplot as plt\n"
   ],
   "outputs": [],
   "execution_count": 1
  },
  {
   "metadata": {},
   "cell_type": "markdown",
   "source": "### Первое: якобиева матрица",
   "id": "aac29bc10dee3e0c"
  },
  {
   "metadata": {
    "ExecuteTime": {
     "end_time": "2025-02-14T20:52:14.648053Z",
     "start_time": "2025-02-14T20:52:14.631692Z"
    }
   },
   "cell_type": "code",
   "source": [
    "init_printing(use_latex='mathjax')\n",
    "r, theta, phi = symbols(\"r theta phi\")\n",
    "\n",
    "X = [r, theta, phi]\n",
    "x = [r*sin(theta)*cos(phi), r*sin(theta)*sin(phi), r*cos(theta)]\n",
    "\n",
    "Q = [[diff(x[i], X[j]) for j in range(3)] for i in range(3)]\n",
    "display(Matrix(Q))"
   ],
   "id": "2f59ce43f19bdf50",
   "outputs": [
    {
     "data": {
      "text/plain": [
       "⎡sin(θ)⋅cos(φ)  r⋅cos(φ)⋅cos(θ)  -r⋅sin(φ)⋅sin(θ)⎤\n",
       "⎢                                                ⎥\n",
       "⎢sin(φ)⋅sin(θ)  r⋅sin(φ)⋅cos(θ)  r⋅sin(θ)⋅cos(φ) ⎥\n",
       "⎢                                                ⎥\n",
       "⎣   cos(θ)         -r⋅sin(θ)            0        ⎦"
      ],
      "text/latex": "$\\displaystyle \\left[\\begin{matrix}\\sin{\\left(\\theta \\right)} \\cos{\\left(\\phi \\right)} & r \\cos{\\left(\\phi \\right)} \\cos{\\left(\\theta \\right)} & - r \\sin{\\left(\\phi \\right)} \\sin{\\left(\\theta \\right)}\\\\\\sin{\\left(\\phi \\right)} \\sin{\\left(\\theta \\right)} & r \\sin{\\left(\\phi \\right)} \\cos{\\left(\\theta \\right)} & r \\sin{\\left(\\theta \\right)} \\cos{\\left(\\phi \\right)}\\\\\\cos{\\left(\\theta \\right)} & - r \\sin{\\left(\\theta \\right)} & 0\\end{matrix}\\right]$"
     },
     "metadata": {},
     "output_type": "display_data"
    }
   ],
   "execution_count": 6
  },
  {
   "metadata": {},
   "cell_type": "markdown",
   "source": "### Второе: векторы локального базиса",
   "id": "86191b19e8ded171"
  },
  {
   "metadata": {
    "ExecuteTime": {
     "end_time": "2025-02-14T20:52:35.371854Z",
     "start_time": "2025-02-14T20:52:35.355482Z"
    }
   },
   "cell_type": "code",
   "source": [
    "r_co = [[Q[i][j] for i in range(3)] for j in range(3)]\n",
    "display(Matrix(r_co))"
   ],
   "id": "71f615d7e62f8b0b",
   "outputs": [
    {
     "data": {
      "text/plain": [
       "⎡ sin(θ)⋅cos(φ)     sin(φ)⋅sin(θ)    cos(θ)  ⎤\n",
       "⎢                                            ⎥\n",
       "⎢r⋅cos(φ)⋅cos(θ)   r⋅sin(φ)⋅cos(θ)  -r⋅sin(θ)⎥\n",
       "⎢                                            ⎥\n",
       "⎣-r⋅sin(φ)⋅sin(θ)  r⋅sin(θ)⋅cos(φ)      0    ⎦"
      ],
      "text/latex": "$\\displaystyle \\left[\\begin{matrix}\\sin{\\left(\\theta \\right)} \\cos{\\left(\\phi \\right)} & \\sin{\\left(\\phi \\right)} \\sin{\\left(\\theta \\right)} & \\cos{\\left(\\theta \\right)}\\\\r \\cos{\\left(\\phi \\right)} \\cos{\\left(\\theta \\right)} & r \\sin{\\left(\\phi \\right)} \\cos{\\left(\\theta \\right)} & - r \\sin{\\left(\\theta \\right)}\\\\- r \\sin{\\left(\\phi \\right)} \\sin{\\left(\\theta \\right)} & r \\sin{\\left(\\theta \\right)} \\cos{\\left(\\phi \\right)} & 0\\end{matrix}\\right]$"
     },
     "metadata": {},
     "output_type": "display_data"
    }
   ],
   "execution_count": 7
  },
  {
   "metadata": {},
   "cell_type": "markdown",
   "source": "### Третье: метрические матрицы",
   "id": "56d50e6753cda9de"
  },
  {
   "metadata": {
    "ExecuteTime": {
     "end_time": "2025-02-14T20:52:38.966469Z",
     "start_time": "2025-02-14T20:52:38.632213Z"
    }
   },
   "cell_type": "code",
   "source": [
    "r_i = Matrix(r_co)\n",
    "r_j = Matrix(r_co).T\n",
    "g_ij = simplify(r_i * r_j)\n",
    "display(g_ij)\n",
    "g_ji = g_ij.inv().applyfunc(simplify)\n",
    "display(g_ji)"
   ],
   "id": "531eaa0847c59127",
   "outputs": [
    {
     "data": {
      "text/plain": [
       "⎡1  0       0     ⎤\n",
       "⎢                 ⎥\n",
       "⎢    2            ⎥\n",
       "⎢0  r       0     ⎥\n",
       "⎢                 ⎥\n",
       "⎢        2    2   ⎥\n",
       "⎣0  0   r ⋅sin (θ)⎦"
      ],
      "text/latex": "$\\displaystyle \\left[\\begin{matrix}1 & 0 & 0\\\\0 & r^{2} & 0\\\\0 & 0 & r^{2} \\sin^{2}{\\left(\\theta \\right)}\\end{matrix}\\right]$"
     },
     "metadata": {},
     "output_type": "display_data"
    },
    {
     "data": {
      "text/plain": [
       "⎡1  0       0     ⎤\n",
       "⎢                 ⎥\n",
       "⎢   1             ⎥\n",
       "⎢0  ──      0     ⎥\n",
       "⎢    2            ⎥\n",
       "⎢   r             ⎥\n",
       "⎢                 ⎥\n",
       "⎢           1     ⎥\n",
       "⎢0  0   ──────────⎥\n",
       "⎢        2    2   ⎥\n",
       "⎣       r ⋅sin (θ)⎦"
      ],
      "text/latex": "$\\displaystyle \\left[\\begin{matrix}1 & 0 & 0\\\\0 & \\frac{1}{r^{2}} & 0\\\\0 & 0 & \\frac{1}{r^{2} \\sin^{2}{\\left(\\theta \\right)}}\\end{matrix}\\right]$"
     },
     "metadata": {},
     "output_type": "display_data"
    }
   ],
   "execution_count": 8
  },
  {
   "metadata": {},
   "cell_type": "markdown",
   "source": "### Четвёртое: контрвариантные компоненты",
   "id": "3115e0a59dbe138f"
  },
  {
   "metadata": {
    "ExecuteTime": {
     "end_time": "2025-02-14T20:52:45.091349Z",
     "start_time": "2025-02-14T20:52:44.942447Z"
    }
   },
   "cell_type": "code",
   "source": [
    "r_co = Matrix(r_co)\n",
    "display(r_co)\n",
    "r_contr = simplify(g_ji * r_co.T)\n",
    "display(r_contr)"
   ],
   "id": "9a41e1544a53cef3",
   "outputs": [
    {
     "data": {
      "text/plain": [
       "⎡ sin(θ)⋅cos(φ)     sin(φ)⋅sin(θ)    cos(θ)  ⎤\n",
       "⎢                                            ⎥\n",
       "⎢r⋅cos(φ)⋅cos(θ)   r⋅sin(φ)⋅cos(θ)  -r⋅sin(θ)⎥\n",
       "⎢                                            ⎥\n",
       "⎣-r⋅sin(φ)⋅sin(θ)  r⋅sin(θ)⋅cos(φ)      0    ⎦"
      ],
      "text/latex": "$\\displaystyle \\left[\\begin{matrix}\\sin{\\left(\\theta \\right)} \\cos{\\left(\\phi \\right)} & \\sin{\\left(\\phi \\right)} \\sin{\\left(\\theta \\right)} & \\cos{\\left(\\theta \\right)}\\\\r \\cos{\\left(\\phi \\right)} \\cos{\\left(\\theta \\right)} & r \\sin{\\left(\\phi \\right)} \\cos{\\left(\\theta \\right)} & - r \\sin{\\left(\\theta \\right)}\\\\- r \\sin{\\left(\\phi \\right)} \\sin{\\left(\\theta \\right)} & r \\sin{\\left(\\theta \\right)} \\cos{\\left(\\phi \\right)} & 0\\end{matrix}\\right]$"
     },
     "metadata": {},
     "output_type": "display_data"
    },
    {
     "data": {
      "text/plain": [
       "⎡sin(θ)⋅cos(φ)  r⋅cos(φ)⋅cos(θ)  -r⋅sin(φ)⋅sin(θ)⎤\n",
       "⎢                                                ⎥\n",
       "⎢sin(φ)⋅sin(θ)   sin(φ)⋅cos(θ)    sin(θ)⋅cos(φ)  ⎥\n",
       "⎢─────────────   ─────────────    ─────────────  ⎥\n",
       "⎢       2              r                r        ⎥\n",
       "⎢      r                                         ⎥\n",
       "⎢                                                ⎥\n",
       "⎢   cos(θ)           -1                          ⎥\n",
       "⎢ ──────────       ────────             0        ⎥\n",
       "⎢  2    2          r⋅sin(θ)                      ⎥\n",
       "⎣ r ⋅sin (θ)                                     ⎦"
      ],
      "text/latex": "$\\displaystyle \\left[\\begin{matrix}\\sin{\\left(\\theta \\right)} \\cos{\\left(\\phi \\right)} & r \\cos{\\left(\\phi \\right)} \\cos{\\left(\\theta \\right)} & - r \\sin{\\left(\\phi \\right)} \\sin{\\left(\\theta \\right)}\\\\\\frac{\\sin{\\left(\\phi \\right)} \\sin{\\left(\\theta \\right)}}{r^{2}} & \\frac{\\sin{\\left(\\phi \\right)} \\cos{\\left(\\theta \\right)}}{r} & \\frac{\\sin{\\left(\\theta \\right)} \\cos{\\left(\\phi \\right)}}{r}\\\\\\frac{\\cos{\\left(\\theta \\right)}}{r^{2} \\sin^{2}{\\left(\\theta \\right)}} & - \\frac{1}{r \\sin{\\left(\\theta \\right)}} & 0\\end{matrix}\\right]$"
     },
     "metadata": {},
     "output_type": "display_data"
    }
   ],
   "execution_count": 9
  },
  {
   "metadata": {},
   "cell_type": "markdown",
   "source": [
    "### Пятое: символы кристоффеля\n",
    "#### Первого рода"
   ],
   "id": "5c3ddeb29064a20b"
  },
  {
   "metadata": {
    "ExecuteTime": {
     "end_time": "2025-02-14T20:52:48.250121Z",
     "start_time": "2025-02-14T20:52:48.215864Z"
    }
   },
   "cell_type": "code",
   "source": [
    "Gamma = [[[0 for k in range(3)] for j in range(3)] for i in range(3)]\n",
    "\n",
    "for m in range(3):\n",
    "    for i in range(3):\n",
    "        for j in range(3):\n",
    "            term1 = diff(g_ij[m, j], X[i])\n",
    "            term2 = diff(g_ij[i, m], X[j])\n",
    "            term3 = diff(g_ij[i, j], X[m])\n",
    "            Gamma[i][j][m] = 0.5 * sum([g_ji[m, k] * (term1 + term2 - term3) for k in range(3)])\n",
    "print(Gamma)"
   ],
   "id": "3aa1e7e4a66b4278",
   "outputs": [
    {
     "name": "stdout",
     "output_type": "stream",
     "text": [
      "[[[0, 0, 0], [0, 1.0/r, 0], [0, 0, 1.0/r]], [[0, 1.0/r, 0], [-1.0*r, 0, 0], [0, 0, 1.0*cos(theta)/sin(theta)]], [[0, 0, 1.0/r], [0, 0, 1.0*cos(theta)/sin(theta)], [-1.0*r*sin(theta)**2, -1.0*sin(theta)*cos(theta), 0]]]\n"
     ]
    }
   ],
   "execution_count": 10
  },
  {
   "metadata": {},
   "cell_type": "markdown",
   "source": "#### Второго рода",
   "id": "d7387ad8dc4b33a8"
  },
  {
   "metadata": {
    "ExecuteTime": {
     "end_time": "2025-02-14T20:52:53.539995Z",
     "start_time": "2025-02-14T20:52:53.517515Z"
    }
   },
   "cell_type": "code",
   "source": [
    "Gamma_2 = [[[(sum([Gamma[i][j][k] * g_ij[k, m] for k in range(3)])) for i in range(3)] for j in range(3)] for m in range(3)]\n",
    "print(Gamma_2)"
   ],
   "id": "d6eaf391db7a06e2",
   "outputs": [
    {
     "name": "stdout",
     "output_type": "stream",
     "text": [
      "[[[0, 0, 0], [0, -1.0*r, 0], [0, 0, -1.0*r*sin(theta)**2]], [[0, 1.0*r, 0], [1.0*r, 0, 0], [0, 0, -1.0*r**2*sin(theta)*cos(theta)]], [[0, 0, 1.0*r*sin(theta)**2], [0, 0, 1.0*r**2*sin(theta)*cos(theta)], [1.0*r*sin(theta)**2, 1.0*r**2*sin(theta)*cos(theta), 0]]]\n"
     ]
    }
   ],
   "execution_count": 11
  }
 ],
 "metadata": {
  "kernelspec": {
   "display_name": "Python 3",
   "language": "python",
   "name": "python3"
  },
  "language_info": {
   "codemirror_mode": {
    "name": "ipython",
    "version": 2
   },
   "file_extension": ".py",
   "mimetype": "text/x-python",
   "name": "python",
   "nbconvert_exporter": "python",
   "pygments_lexer": "ipython2",
   "version": "2.7.6"
  }
 },
 "nbformat": 4,
 "nbformat_minor": 5
}
